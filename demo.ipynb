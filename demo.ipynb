{
 "cells": [
  {
   "cell_type": "code",
   "execution_count": 1,
   "metadata": {},
   "outputs": [],
   "source": [
    "# General imports\n",
    "import os\n",
    "import sys\n",
    "import numpy as np\n",
    "\n",
    "# Gymnasium\n",
    "import gymnasium as gym\n",
    "from gymnasium.spaces.box import Box\n",
    "\n",
    "# Sinergym\n",
    "import sinergym\n",
    "from sinergym.utils.rewards import ExpReward\n",
    "from sinergym.utils.wrappers import NormalizeObservation"
   ]
  },
  {
   "cell_type": "code",
   "execution_count": 2,
   "metadata": {},
   "outputs": [],
   "source": [
    "# Add the EnergyPlus path to the system path\n",
    "sys.path.append('./EnergyPlus-23-1-0')\n",
    "# Set the EnergyPlus path as an environment variable\n",
    "os.environ['EPLUS_PATH'] = './EnergyPlus-23-1-0'"
   ]
  },
  {
   "cell_type": "code",
   "execution_count": 3,
   "metadata": {},
   "outputs": [],
   "source": [
    "# Environment ID\n",
    "id = \"Eplus-5zone-hot-continuous-stochastic-v1\"\n",
    "\n",
    "# Weather\n",
    "weather_files = ['USA_AZ_Davis-Monthan.AFB.722745_TMY3.epw']\n",
    "weather_variability = (1.0,0.0,0.001)\n",
    "\n",
    "# Reward function\n",
    "reward = ExpReward\n",
    "reward_kwargs = {\n",
    "    'temperature_variables': ['air_temperature'],\n",
    "    'energy_variables': ['HVAC_electricity_demand_rate'],\n",
    "    'range_comfort_winter': [20, 23],\n",
    "    'range_comfort_summer': [23, 26],\n",
    "    'energy_weight': 0.1\n",
    "}"
   ]
  },
  {
   "cell_type": "code",
   "execution_count": 4,
   "metadata": {},
   "outputs": [
    {
     "name": "stdout",
     "output_type": "stream",
     "text": [
      "#==============================================================================================#\n",
      "\u001b[38;20m[ENVIRONMENT] (INFO) : Creating Gymnasium environment... [5zone-hot-continuous-stochastic-v1]\u001b[0m\n",
      "#==============================================================================================#\n",
      "\u001b[38;20m[MODELING] (INFO) : Experiment working directory created [/home/luigi/Documents/SmartEnergyOptimizationRL/Eplus-env-5zone-hot-continuous-stochastic-v1-res5]\u001b[0m\n",
      "\u001b[38;20m[MODELING] (INFO) : Model Config is correct.\u001b[0m\n",
      "\u001b[38;20m[MODELING] (INFO) : Updated building model with whole Output:Variable available names\u001b[0m\n",
      "\u001b[38;20m[MODELING] (INFO) : Updated building model with whole Output:Meter available names\u001b[0m\n",
      "\u001b[38;20m[MODELING] (INFO) : runperiod established: {'start_day': 1, 'start_month': 1, 'start_year': 1991, 'end_day': 31, 'end_month': 12, 'end_year': 1991, 'start_weekday': 0, 'n_steps_per_hour': 4}\u001b[0m\n",
      "\u001b[38;20m[MODELING] (INFO) : Episode length (seconds): 31536000.0\u001b[0m\n",
      "\u001b[38;20m[MODELING] (INFO) : timestep size (seconds): 900.0\u001b[0m\n",
      "\u001b[38;20m[MODELING] (INFO) : timesteps per episode: 35040\u001b[0m\n",
      "\u001b[38;20m[REWARD] (INFO) : Reward function initialized.\u001b[0m\n",
      "\u001b[38;20m[ENVIRONMENT] (INFO) : Environment 5zone-hot-continuous-stochastic-v1 created successfully.\u001b[0m\n",
      "\u001b[38;20m[WRAPPER NormalizeObservation] (INFO) : wrapper initialized.\u001b[0m\n"
     ]
    }
   ],
   "source": [
    "# Create the environment\n",
    "env = gym.make(\n",
    "    id=id,\n",
    "    weather_files=weather_files,\n",
    "    weather_variability=weather_variability,\n",
    "    reward=reward,\n",
    "    reward_kwargs=reward_kwargs\n",
    ")\n",
    "\n",
    "# Normalize the observation space\n",
    "env =  NormalizeObservation(env) "
   ]
  },
  {
   "cell_type": "code",
   "execution_count": 5,
   "metadata": {},
   "outputs": [
    {
     "name": "stdout",
     "output_type": "stream",
     "text": [
      "\n",
      "    #==================================================================================#\n",
      "                                ENVIRONMENT NAME: 5zone-hot-continuous-stochastic-v1\n",
      "    #==================================================================================#\n",
      "    #----------------------------------------------------------------------------------#\n",
      "                                ENVIRONMENT INFO:\n",
      "    #----------------------------------------------------------------------------------#\n",
      "    - Building file: /home/luigi/Documents/SmartEnergyOptimizationRL/.venv/lib/python3.10/site-packages/sinergym/data/buildings/5ZoneAutoDXVAV.epJSON\n",
      "    - Zone names: ['PLENUM-1', 'SPACE1-1', 'SPACE2-1', 'SPACE3-1', 'SPACE4-1', 'SPACE5-1']\n",
      "    - Weather file(s): ['USA_AZ_Davis-Monthan.AFB.722745_TMY3.epw']\n",
      "    - Current weather used: /home/luigi/Documents/SmartEnergyOptimizationRL/.venv/lib/python3.10/site-packages/sinergym/data/weather/USA_AZ_Davis-Monthan.AFB.722745_TMY3.epw\n",
      "    - Episodes executed: 0\n",
      "    - Workspace directory: /home/luigi/Documents/SmartEnergyOptimizationRL/Eplus-env-5zone-hot-continuous-stochastic-v1-res5\n",
      "    - Reward function: <sinergym.utils.rewards.ExpReward object at 0x7f721d6ec100>\n",
      "    - Reset default options: {'weather_variability': (1.0, 0.0, 0.001)}\n",
      "    - Run period: {'start_day': 1, 'start_month': 1, 'start_year': 1991, 'end_day': 31, 'end_month': 12, 'end_year': 1991, 'start_weekday': 0, 'n_steps_per_hour': 4}\n",
      "    - Episode length: 31536000.0\n",
      "    - Number of timesteps in an episode: 35040\n",
      "    - Timestep size (seconds): 900.0\n",
      "    - It is discrete?: False\n",
      "    #----------------------------------------------------------------------------------#\n",
      "                                ENVIRONMENT SPACE:\n",
      "    #----------------------------------------------------------------------------------#\n",
      "    - Observation space: Box(-50000000.0, 50000000.0, (17,), float32)\n",
      "    - Observation variables: ['month', 'day_of_month', 'hour', 'outdoor_temperature', 'outdoor_humidity', 'wind_speed', 'wind_direction', 'diffuse_solar_radiation', 'direct_solar_radiation', 'htg_setpoint', 'clg_setpoint', 'air_temperature', 'air_humidity', 'people_occupant', 'co2_emission', 'HVAC_electricity_demand_rate', 'total_electricity_HVAC']\n",
      "    - Action space: Box([12.  23.5], [21.5 40. ], (2,), float32)\n",
      "    - Action variables: ['Heating_Setpoint_RL', 'Cooling_Setpoint_RL']\n",
      "    #==================================================================================#\n",
      "                                    SIMULATOR\n",
      "    #==================================================================================#\n",
      "    *NOTE: To have information about available handlers and controlled elements, it is\n",
      "    required to do env reset before to print information.*\n",
      "\n",
      "    Is running? : False\n",
      "    #----------------------------------------------------------------------------------#\n",
      "                                AVAILABLE ELEMENTS:\n",
      "    #----------------------------------------------------------------------------------#\n",
      "    *Some variables can not be here depending if it is defined Output:Variable field\n",
      "     in building model. See documentation for more information.*\n",
      "\n",
      "    None\n",
      "    #----------------------------------------------------------------------------------#\n",
      "                                CONTROLLED ELEMENTS:\n",
      "    #----------------------------------------------------------------------------------#\n",
      "    - Actuators: None\n",
      "    - Variables: None\n",
      "    - Meters: None\n",
      "    - Internal Variables: None\n",
      "\n",
      "    \n"
     ]
    }
   ],
   "source": [
    "env.unwrapped.info()"
   ]
  },
  {
   "cell_type": "code",
   "execution_count": 6,
   "metadata": {},
   "outputs": [
    {
     "name": "stdout",
     "output_type": "stream",
     "text": [
      "#----------------------------------------------------------------------------------------------#\n",
      "\u001b[38;20m[ENVIRONMENT] (INFO) : Starting a new episode... [5zone-hot-continuous-stochastic-v1] [Episode 1]\u001b[0m\n",
      "#----------------------------------------------------------------------------------------------#\n",
      "\u001b[38;20m[MODELING] (INFO) : Episode directory created [/home/luigi/Documents/SmartEnergyOptimizationRL/Eplus-env-5zone-hot-continuous-stochastic-v1-res5/Eplus-env-sub_run1]\u001b[0m\n",
      "\u001b[38;20m[MODELING] (INFO) : Weather file USA_AZ_Davis-Monthan.AFB.722745_TMY3.epw used.\u001b[0m\n",
      "\u001b[38;20m[MODELING] (INFO) : Adapting weather to building model. [USA_AZ_Davis-Monthan.AFB.722745_TMY3.epw]\u001b[0m\n",
      "\u001b[38;20m[ENVIRONMENT] (INFO) : Saving episode output path... [/home/luigi/Documents/SmartEnergyOptimizationRL/Eplus-env-5zone-hot-continuous-stochastic-v1-res5/Eplus-env-sub_run1/output]\u001b[0m\n",
      "\u001b[38;20m[SIMULATOR] (INFO) : Running EnergyPlus with args: ['-w', '/home/luigi/Documents/SmartEnergyOptimizationRL/Eplus-env-5zone-hot-continuous-stochastic-v1-res5/Eplus-env-sub_run1/USA_AZ_Davis-Monthan.AFB.722745_TMY3_Random_1.0_0.0_0.001.epw', '-d', '/home/luigi/Documents/SmartEnergyOptimizationRL/Eplus-env-5zone-hot-continuous-stochastic-v1-res5/Eplus-env-sub_run1/output', '/home/luigi/Documents/SmartEnergyOptimizationRL/Eplus-env-5zone-hot-continuous-stochastic-v1-res5/Eplus-env-sub_run1/5ZoneAutoDXVAV.epJSON']\u001b[0m\n",
      "\u001b[38;20m[ENVIRONMENT] (INFO) : Episode 1 started.\u001b[0m\n",
      "\u001b[38;20m[SIMULATOR] (INFO) : handlers initialized.\u001b[0m\n",
      "\u001b[38;20m[SIMULATOR] (INFO) : handlers are ready.\u001b[0m\n",
      "\u001b[38;20m[SIMULATOR] (INFO) : System is ready.\u001b[0m\n",
      "\n",
      "\n",
      "OBSERVATION:  [ 0.00499969  0.00499969  0.          0.99193622 -0.97456266  0.99739698\n",
      "  0.99085254  0.          0.          0.00704958  0.00706886 -0.30898592\n",
      " -0.02215447  0.          0.          0.00707107  0.00707107]\n",
      "REWARD:  -171.0071179093041\n",
      "TERMINATED:  False\n",
      "TRUNCATED:  False\n",
      "INFO:  {'time_elapsed(hours)': 0.5, 'month': 1, 'day': 1, 'hour': 0, 'is_raining': False, 'action': array([19.362051, 39.70223 ], dtype=float32), 'timestep': 2, 'reward': -171.0071179093041, 'energy_term': -167.60337731865476, 'comfort_term': -3.4037405906493485, 'reward_weight': 0.1, 'abs_energy': 1676.0337731865475, 'abs_comfort': 3.781933989610387, 'energy_values': [1676.0337731865475], 'temp_values': [18.669764483747258]}\n"
     ]
    }
   ],
   "source": [
    "for i in range(1):\n",
    "    obs, info = env.reset()\n",
    "    rewards = []\n",
    "    terminated = False\n",
    "    current_month = 0\n",
    "    while not terminated:\n",
    "        a = env.action_space.sample()\n",
    "        obs, reward, terminated, truncated, info = env.step(a)\n",
    "        if info['month'] != current_month:  # display results every month\n",
    "            current_month = info['month']\n",
    "            print(\"\\n\\nOBSERVATION: \", obs)\n",
    "            print(\"REWARD: \", reward)\n",
    "            print(\"TERMINATED: \", terminated)\n",
    "            print(\"TRUNCATED: \", truncated)\n",
    "            print(\"INFO: \", info)\n",
    "        break"
   ]
  },
  {
   "cell_type": "code",
   "execution_count": 7,
   "metadata": {},
   "outputs": [
    {
     "name": "stdout",
     "output_type": "stream",
     "text": [
      "Progress: |***************************************************************************************************| 99%\n"
     ]
    },
    {
     "name": "stdout",
     "output_type": "stream",
     "text": [
      "\u001b[38;20m[ENVIRONMENT] (INFO) : Environment closed. [5zone-hot-continuous-stochastic-v1]\u001b[0m\n"
     ]
    }
   ],
   "source": [
    "env.close()"
   ]
  }
 ],
 "metadata": {
  "kernelspec": {
   "display_name": "Python 3",
   "language": "python",
   "name": "python3"
  },
  "language_info": {
   "codemirror_mode": {
    "name": "ipython",
    "version": 3
   },
   "file_extension": ".py",
   "mimetype": "text/x-python",
   "name": "python",
   "nbconvert_exporter": "python",
   "pygments_lexer": "ipython3",
   "version": "3.10.12"
  }
 },
 "nbformat": 4,
 "nbformat_minor": 2
}
