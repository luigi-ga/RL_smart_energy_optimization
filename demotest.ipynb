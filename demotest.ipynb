{
 "cells": [
  {
   "cell_type": "code",
   "execution_count": 1,
   "metadata": {},
   "outputs": [],
   "source": [
    "import sys\n",
    "import os\n",
    "\n",
    "# Add the EnergyPlus path to the system path\n",
    "sys.path.append('/usr/local/EnergyPlus-23-1-0')\n",
    "# Set the EnergyPlus path as an environment variable\n",
    "os.environ['EPLUS_PATH'] = '/usr/local/EnergyPlus-23-1-0'"
   ]
  },
  {
   "cell_type": "code",
   "execution_count": 2,
   "metadata": {},
   "outputs": [],
   "source": [
    "import gymnasium as gym\n",
    "import numpy as np\n",
    "import sinergym\n",
    "\n",
    "from src.reward import FangerReward\n",
    "from src.epw_data import EPW_Data"
   ]
  },
  {
   "cell_type": "markdown",
   "metadata": {},
   "source": [
    "num_gpus=1, \n",
    "log_path='logs', \n",
    "wandb=True, \n",
    "project='active-rl', \n",
    "profile=False, env='sg', \n",
    "num_timesteps=7500000, \n",
    "train_batch_size=26280, \n",
    "horizon=4380, \n",
    "clip_param=0.3, \n",
    "lr=5e-05, \n",
    "gamma=0.8, \n",
    "num_sgd_iter=40, \n",
    "eval_interval=3, \n",
    "num_training_workers=3, \n",
    "num_eval_workers=3, \n",
    "num_envs_per_worker=2, \n",
    "cl_filename='./data/citylearn_challenge_2022_phase_1/schema.json', \n",
    "cl_eval_folder='./data/all_buildings', \n",
    "cl_use_rbc_residual=0, \n",
    "cl_action_multiplier=1, gw_filename='gridworlds/sample_grid.txt', \n",
    "gw_steps_per_cell=1, \n",
    "dm_filename='gridworlds/sample_grid.txt', \n",
    "aliveness_reward=0.01, \n",
    "distance_reward_scale=0.01, \n",
    "use_all_geoms=False, \n",
    "walker='ant', \n",
    "dm_steps_per_cell=1, \n",
    "control_timestep=0.1, \n",
    "physics_timestep=0.02, \n",
    "use_rbc=0,\n",
    "use_random=0, \n",
    "only_drybulb=False, \n",
    "sample_envs=False, \n",
    "sinergym_timesteps_per_hour=1, \n",
    "eval_fidelity_ratio=1, \n",
    "base_weather='hot', \n",
    "random_month=False, \n",
    "no_noise=False, \n",
    "continuous=True, \n",
    "only_vary_offset=True, \n",
    "use_activerl=1.0, \n",
    "use_random_reset=0.0, \n",
    "num_descent_steps=91, \n",
    "no_coop=False, \n",
    "planning_model_ckpt=None, \n",
    "seed=3526, \n",
    "planning_uncertainty_weight=1, \n",
    "activerl_lr=0.01, \n",
    "activerl_reg_coeff=0.5, \n",
    "num_dropout_evals=10, \n",
    "plr_d=0.0, \n",
    "plr_beta=0.1, \n",
    "plr_envs_to_1=100, \n",
    "plr_robust=False, \n",
    "naive_grounding=False, \n",
    "env_repeat=1, \n",
    "start=0, \n",
    "plr_rho=0.1, \n",
    "dropout=0.1, \n",
    "full_eval_interval=10, \n",
    "sinergym_sweep='1.0,0,0,0'"
   ]
  },
  {
   "cell_type": "code",
   "execution_count": 3,
   "metadata": {},
   "outputs": [
    {
     "name": "stderr",
     "output_type": "stream",
     "text": [
      "/home/luigi/.local/lib/python3.10/site-packages/sklearn/base.py:348: InconsistentVersionWarning: Trying to unpickle estimator KernelCenterer from version 1.2.0 when using version 1.3.2. This might lead to breaking code or invalid results. Use at your own risk. For more info please refer to:\n",
      "https://scikit-learn.org/stable/model_persistence.html#security-maintainability-limitations\n",
      "  warnings.warn(\n",
      "/home/luigi/.local/lib/python3.10/site-packages/sklearn/base.py:348: InconsistentVersionWarning: Trying to unpickle estimator KernelPCA from version 1.2.0 when using version 1.3.2. This might lead to breaking code or invalid results. Use at your own risk. For more info please refer to:\n",
      "https://scikit-learn.org/stable/model_persistence.html#security-maintainability-limitations\n",
      "  warnings.warn(\n"
     ]
    }
   ],
   "source": [
    "epw_data = EPW_Data.load(\"src/US_epw_OU_data.pkl\")"
   ]
  },
  {
   "cell_type": "code",
   "execution_count": 4,
   "metadata": {},
   "outputs": [
    {
     "name": "stdout",
     "output_type": "stream",
     "text": [
      "#==============================================================================================#\n",
      "\u001b[38;20m[ENVIRONMENT] (INFO) : Creating Gymnasium environment... [5zone-hot-continuous-stochastic-v1]\u001b[0m\n",
      "#==============================================================================================#\n",
      "\u001b[38;20m[MODELING] (INFO) : Experiment working directory created [/home/luigi/Documents/RL/project/Eplus-env-5zone-hot-continuous-stochastic-v1-res3]\u001b[0m\n",
      "\u001b[38;20m[MODELING] (INFO) : Model Config is correct.\u001b[0m\n",
      "\u001b[38;20m[MODELING] (INFO) : Updated building model with whole Output:Variable available names\u001b[0m\n",
      "\u001b[38;20m[MODELING] (INFO) : Updated building model with whole Output:Meter available names\u001b[0m\n",
      "\u001b[38;20m[MODELING] (INFO) : runperiod established: {'start_day': 1, 'start_month': 1, 'start_year': 1991, 'end_day': 31, 'end_month': 12, 'end_year': 1991, 'start_weekday': 0, 'n_steps_per_hour': 1}\u001b[0m\n",
      "\u001b[38;20m[MODELING] (INFO) : Episode length (seconds): 31536000.0\u001b[0m\n",
      "\u001b[38;20m[MODELING] (INFO) : timestep size (seconds): 3600.0\u001b[0m\n",
      "\u001b[38;20m[MODELING] (INFO) : timesteps per episode: 8760\u001b[0m\n"
     ]
    },
    {
     "ename": "TypeError",
     "evalue": "FangerReward.__init__() missing 1 required positional argument: 'env' was raised from the environment creator for Eplus-5zone-hot-continuous-stochastic-v1 with kwargs ({'building_file': '5ZoneAutoDXVAV.epJSON', 'weather_files': 'PRT_Lisboa.085360_INETI.epw', 'action_space': Box([12.  23.5], [21.5 40. ], (2,), float32), 'time_variables': ['month', 'day_of_month', 'hour'], 'variables': {'outdoor_temperature': ('Site Outdoor Air DryBulb Temperature', 'Environment'), 'outdoor_humidity': ('Site Outdoor Air Relative Humidity', 'Environment'), 'wind_speed': ('Site Wind Speed', 'Environment'), 'wind_direction': ('Site Wind Direction', 'Environment'), 'diffuse_solar_radiation': ('Site Diffuse Solar Radiation Rate per Area', 'Environment'), 'direct_solar_radiation': ('Site Direct Solar Radiation Rate per Area', 'Environment'), 'htg_setpoint': ('Zone Thermostat Heating Setpoint Temperature', 'SPACE5-1'), 'clg_setpoint': ('Zone Thermostat Cooling Setpoint Temperature', 'SPACE5-1'), 'air_temperature': ('Zone Air Temperature', 'SPACE5-1'), 'air_humidity': ('Zone Air Relative Humidity', 'SPACE5-1'), 'people_occupant': ('Zone People Occupant Count', 'SPACE5-1'), 'co2_emission': ('Environmental Impact Total CO2 Emissions Carbon Equivalent Mass', 'site'), 'HVAC_electricity_demand_rate': ('Facility Total HVAC Electricity Demand Rate', 'Whole Building')}, 'meters': {'total_electricity_HVAC': 'Electricity:HVAC'}, 'actuators': {'Heating_Setpoint_RL': ('Schedule:Compact', 'Schedule Value', 'HTG-SETP-SCH'), 'Cooling_Setpoint_RL': ('Schedule:Compact', 'Schedule Value', 'CLG-SETP-SCH')}, 'weather_variability': (1.0, 0.0, 0.001), 'reward': <class 'src.reward.FangerReward'>, 'reward_kwargs': {'energy_variable': 'Facility Total HVAC Electricity Demand Rate(Whole Building)', 'ppd_variable': 'Zone Thermal Comfort Fanger Model PPD(SPACE1-1 PEOPLE 1)', 'occupancy_variable': 'Zone People Occupant Count(SPACE1-1)'}, 'max_ep_data_store_num': 10, 'env_name': '5zone-hot-continuous-stochastic-v1', 'config_params': {'timesteps_per_hour': 1}})",
     "output_type": "error",
     "traceback": [
      "\u001b[0;31m---------------------------------------------------------------------------\u001b[0m",
      "\u001b[0;31mTypeError\u001b[0m                                 Traceback (most recent call last)",
      "File \u001b[0;32m~/.local/lib/python3.10/site-packages/gymnasium/envs/registration.py:802\u001b[0m, in \u001b[0;36mmake\u001b[0;34m(id, max_episode_steps, autoreset, apply_api_compatibility, disable_env_checker, **kwargs)\u001b[0m\n\u001b[1;32m    801\u001b[0m \u001b[38;5;28;01mtry\u001b[39;00m:\n\u001b[0;32m--> 802\u001b[0m     env \u001b[38;5;241m=\u001b[39m \u001b[43menv_creator\u001b[49m\u001b[43m(\u001b[49m\u001b[38;5;241;43m*\u001b[39;49m\u001b[38;5;241;43m*\u001b[39;49m\u001b[43menv_spec_kwargs\u001b[49m\u001b[43m)\u001b[49m\n\u001b[1;32m    803\u001b[0m \u001b[38;5;28;01mexcept\u001b[39;00m \u001b[38;5;167;01mTypeError\u001b[39;00m \u001b[38;5;28;01mas\u001b[39;00m e:\n",
      "File \u001b[0;32m~/Documents/RL/project/sinergym/sinergym/envs/eplus_env.py:180\u001b[0m, in \u001b[0;36mEplusEnv.__init__\u001b[0;34m(self, building_file, weather_files, action_space, time_variables, variables, meters, actuators, weather_variability, reward, reward_kwargs, max_ep_data_store_num, env_name, config_params)\u001b[0m\n\u001b[1;32m    177\u001b[0m \u001b[38;5;66;03m# ---------------------------------------------------------------------------- #\u001b[39;00m\n\u001b[1;32m    178\u001b[0m \u001b[38;5;66;03m#                                    Reward                                    #\u001b[39;00m\n\u001b[1;32m    179\u001b[0m \u001b[38;5;66;03m# ---------------------------------------------------------------------------- #\u001b[39;00m\n\u001b[0;32m--> 180\u001b[0m \u001b[38;5;28mself\u001b[39m\u001b[38;5;241m.\u001b[39mreward_fn \u001b[38;5;241m=\u001b[39m \u001b[43mreward\u001b[49m\u001b[43m(\u001b[49m\u001b[38;5;241;43m*\u001b[39;49m\u001b[38;5;241;43m*\u001b[39;49m\u001b[43mreward_kwargs\u001b[49m\u001b[43m)\u001b[49m\n\u001b[1;32m    182\u001b[0m \u001b[38;5;66;03m# ---------------------------------------------------------------------------- #\u001b[39;00m\n\u001b[1;32m    183\u001b[0m \u001b[38;5;66;03m#                        Environment definition checker                        #\u001b[39;00m\n\u001b[1;32m    184\u001b[0m \u001b[38;5;66;03m# ---------------------------------------------------------------------------- #\u001b[39;00m\n",
      "\u001b[0;31mTypeError\u001b[0m: FangerReward.__init__() missing 1 required positional argument: 'env'",
      "\nDuring handling of the above exception, another exception occurred:\n",
      "\u001b[0;31mTypeError\u001b[0m                                 Traceback (most recent call last)",
      "Cell \u001b[0;32mIn[4], line 1\u001b[0m\n\u001b[0;32m----> 1\u001b[0m env \u001b[38;5;241m=\u001b[39m \u001b[43mgym\u001b[49m\u001b[38;5;241;43m.\u001b[39;49m\u001b[43mmake\u001b[49m\u001b[43m(\u001b[49m\n\u001b[1;32m      2\u001b[0m \u001b[43m    \u001b[49m\u001b[38;5;28;43mid\u001b[39;49m\u001b[38;5;241;43m=\u001b[39;49m\u001b[38;5;124;43m'\u001b[39;49m\u001b[38;5;124;43mEplus-5zone-hot-continuous-stochastic-v1\u001b[39;49m\u001b[38;5;124;43m'\u001b[39;49m\u001b[43m,\u001b[49m\u001b[43m \u001b[49m\n\u001b[1;32m      3\u001b[0m \u001b[43m    \u001b[49m\u001b[43mweather_files\u001b[49m\u001b[38;5;241;43m=\u001b[39;49m\u001b[38;5;124;43m'\u001b[39;49m\u001b[38;5;124;43mPRT_Lisboa.085360_INETI.epw\u001b[39;49m\u001b[38;5;124;43m'\u001b[39;49m\u001b[43m,\u001b[49m\n\u001b[1;32m      4\u001b[0m \u001b[43m    \u001b[49m\u001b[43mreward\u001b[49m\u001b[38;5;241;43m=\u001b[39;49m\u001b[43mFangerReward\u001b[49m\u001b[43m,\u001b[49m\n\u001b[1;32m      5\u001b[0m \u001b[43m    \u001b[49m\u001b[43mreward_kwargs\u001b[49m\u001b[38;5;241;43m=\u001b[39;49m\u001b[43m{\u001b[49m\n\u001b[1;32m      6\u001b[0m \u001b[43m        \u001b[49m\u001b[38;5;124;43m'\u001b[39;49m\u001b[38;5;124;43menergy_variable\u001b[39;49m\u001b[38;5;124;43m'\u001b[39;49m\u001b[43m:\u001b[49m\u001b[43m \u001b[49m\u001b[38;5;124;43m'\u001b[39;49m\u001b[38;5;124;43mFacility Total HVAC Electricity Demand Rate(Whole Building)\u001b[39;49m\u001b[38;5;124;43m'\u001b[39;49m\u001b[43m,\u001b[49m\n\u001b[1;32m      7\u001b[0m \u001b[43m        \u001b[49m\u001b[38;5;124;43m'\u001b[39;49m\u001b[38;5;124;43mppd_variable\u001b[39;49m\u001b[38;5;124;43m'\u001b[39;49m\u001b[43m:\u001b[49m\u001b[43m \u001b[49m\u001b[38;5;124;43m'\u001b[39;49m\u001b[38;5;124;43mZone Thermal Comfort Fanger Model PPD(SPACE1-1 PEOPLE 1)\u001b[39;49m\u001b[38;5;124;43m'\u001b[39;49m\u001b[43m,\u001b[49m\n\u001b[1;32m      8\u001b[0m \u001b[43m        \u001b[49m\u001b[38;5;124;43m'\u001b[39;49m\u001b[38;5;124;43moccupancy_variable\u001b[39;49m\u001b[38;5;124;43m'\u001b[39;49m\u001b[43m:\u001b[49m\u001b[43m \u001b[49m\u001b[38;5;124;43m'\u001b[39;49m\u001b[38;5;124;43mZone People Occupant Count(SPACE1-1)\u001b[39;49m\u001b[38;5;124;43m'\u001b[39;49m\n\u001b[1;32m      9\u001b[0m \u001b[43m    \u001b[49m\u001b[43m}\u001b[49m\u001b[43m,\u001b[49m\n\u001b[1;32m     10\u001b[0m \u001b[43m    \u001b[49m\u001b[38;5;66;43;03m#act_repeat=1,\u001b[39;49;00m\n\u001b[1;32m     11\u001b[0m \u001b[43m    \u001b[49m\u001b[43mconfig_params\u001b[49m\u001b[38;5;241;43m=\u001b[39;49m\u001b[43m{\u001b[49m\n\u001b[1;32m     12\u001b[0m \u001b[43m        \u001b[49m\u001b[38;5;124;43m'\u001b[39;49m\u001b[38;5;124;43mtimesteps_per_hour\u001b[39;49m\u001b[38;5;124;43m'\u001b[39;49m\u001b[43m \u001b[49m\u001b[43m:\u001b[49m\u001b[43m \u001b[49m\u001b[38;5;241;43m1\u001b[39;49m\u001b[43m,\u001b[49m\n\u001b[1;32m     13\u001b[0m \u001b[43m        \u001b[49m\u001b[38;5;66;43;03m#'weather_bounds': {name: (epw_data.weather_min[name], epw_data.weather_max[name]) for name in epw_data.weather_min.index},\u001b[39;49;00m\n\u001b[1;32m     14\u001b[0m \u001b[43m        \u001b[49m\u001b[38;5;66;43;03m#\"random_month\": False}\u001b[39;49;00m\n\u001b[1;32m     15\u001b[0m \u001b[43m    \u001b[49m\u001b[43m}\u001b[49m\n\u001b[1;32m     16\u001b[0m \u001b[43m)\u001b[49m\n",
      "File \u001b[0;32m~/.local/lib/python3.10/site-packages/gymnasium/envs/registration.py:814\u001b[0m, in \u001b[0;36mmake\u001b[0;34m(id, max_episode_steps, autoreset, apply_api_compatibility, disable_env_checker, **kwargs)\u001b[0m\n\u001b[1;32m    808\u001b[0m         \u001b[38;5;28;01mraise\u001b[39;00m error\u001b[38;5;241m.\u001b[39mError(\n\u001b[1;32m    809\u001b[0m             \u001b[38;5;124mf\u001b[39m\u001b[38;5;124m\"\u001b[39m\u001b[38;5;124mYou passed render_mode=\u001b[39m\u001b[38;5;124m'\u001b[39m\u001b[38;5;124mhuman\u001b[39m\u001b[38;5;124m'\u001b[39m\u001b[38;5;124m although \u001b[39m\u001b[38;5;132;01m{\u001b[39;00menv_spec\u001b[38;5;241m.\u001b[39mid\u001b[38;5;132;01m}\u001b[39;00m\u001b[38;5;124m doesn\u001b[39m\u001b[38;5;124m'\u001b[39m\u001b[38;5;124mt implement human-rendering natively. \u001b[39m\u001b[38;5;124m\"\u001b[39m\n\u001b[1;32m    810\u001b[0m             \u001b[38;5;124m\"\u001b[39m\u001b[38;5;124mGym tried to apply the HumanRendering wrapper but it looks like your environment is using the old \u001b[39m\u001b[38;5;124m\"\u001b[39m\n\u001b[1;32m    811\u001b[0m             \u001b[38;5;124m\"\u001b[39m\u001b[38;5;124mrendering API, which is not supported by the HumanRendering wrapper.\u001b[39m\u001b[38;5;124m\"\u001b[39m\n\u001b[1;32m    812\u001b[0m         ) \u001b[38;5;28;01mfrom\u001b[39;00m \u001b[38;5;21;01me\u001b[39;00m\n\u001b[1;32m    813\u001b[0m     \u001b[38;5;28;01melse\u001b[39;00m:\n\u001b[0;32m--> 814\u001b[0m         \u001b[38;5;28;01mraise\u001b[39;00m \u001b[38;5;28mtype\u001b[39m(e)(\n\u001b[1;32m    815\u001b[0m             \u001b[38;5;124mf\u001b[39m\u001b[38;5;124m\"\u001b[39m\u001b[38;5;132;01m{\u001b[39;00me\u001b[38;5;132;01m}\u001b[39;00m\u001b[38;5;124m was raised from the environment creator for \u001b[39m\u001b[38;5;132;01m{\u001b[39;00menv_spec\u001b[38;5;241m.\u001b[39mid\u001b[38;5;132;01m}\u001b[39;00m\u001b[38;5;124m with kwargs (\u001b[39m\u001b[38;5;132;01m{\u001b[39;00menv_spec_kwargs\u001b[38;5;132;01m}\u001b[39;00m\u001b[38;5;124m)\u001b[39m\u001b[38;5;124m\"\u001b[39m\n\u001b[1;32m    816\u001b[0m         )\n\u001b[1;32m    818\u001b[0m \u001b[38;5;66;03m# Set the minimal env spec for the environment.\u001b[39;00m\n\u001b[1;32m    819\u001b[0m env\u001b[38;5;241m.\u001b[39munwrapped\u001b[38;5;241m.\u001b[39mspec \u001b[38;5;241m=\u001b[39m EnvSpec(\n\u001b[1;32m    820\u001b[0m     \u001b[38;5;28mid\u001b[39m\u001b[38;5;241m=\u001b[39menv_spec\u001b[38;5;241m.\u001b[39mid,\n\u001b[1;32m    821\u001b[0m     entry_point\u001b[38;5;241m=\u001b[39menv_spec\u001b[38;5;241m.\u001b[39mentry_point,\n\u001b[0;32m   (...)\u001b[0m\n\u001b[1;32m    831\u001b[0m     vector_entry_point\u001b[38;5;241m=\u001b[39menv_spec\u001b[38;5;241m.\u001b[39mvector_entry_point,\n\u001b[1;32m    832\u001b[0m )\n",
      "\u001b[0;31mTypeError\u001b[0m: FangerReward.__init__() missing 1 required positional argument: 'env' was raised from the environment creator for Eplus-5zone-hot-continuous-stochastic-v1 with kwargs ({'building_file': '5ZoneAutoDXVAV.epJSON', 'weather_files': 'PRT_Lisboa.085360_INETI.epw', 'action_space': Box([12.  23.5], [21.5 40. ], (2,), float32), 'time_variables': ['month', 'day_of_month', 'hour'], 'variables': {'outdoor_temperature': ('Site Outdoor Air DryBulb Temperature', 'Environment'), 'outdoor_humidity': ('Site Outdoor Air Relative Humidity', 'Environment'), 'wind_speed': ('Site Wind Speed', 'Environment'), 'wind_direction': ('Site Wind Direction', 'Environment'), 'diffuse_solar_radiation': ('Site Diffuse Solar Radiation Rate per Area', 'Environment'), 'direct_solar_radiation': ('Site Direct Solar Radiation Rate per Area', 'Environment'), 'htg_setpoint': ('Zone Thermostat Heating Setpoint Temperature', 'SPACE5-1'), 'clg_setpoint': ('Zone Thermostat Cooling Setpoint Temperature', 'SPACE5-1'), 'air_temperature': ('Zone Air Temperature', 'SPACE5-1'), 'air_humidity': ('Zone Air Relative Humidity', 'SPACE5-1'), 'people_occupant': ('Zone People Occupant Count', 'SPACE5-1'), 'co2_emission': ('Environmental Impact Total CO2 Emissions Carbon Equivalent Mass', 'site'), 'HVAC_electricity_demand_rate': ('Facility Total HVAC Electricity Demand Rate', 'Whole Building')}, 'meters': {'total_electricity_HVAC': 'Electricity:HVAC'}, 'actuators': {'Heating_Setpoint_RL': ('Schedule:Compact', 'Schedule Value', 'HTG-SETP-SCH'), 'Cooling_Setpoint_RL': ('Schedule:Compact', 'Schedule Value', 'CLG-SETP-SCH')}, 'weather_variability': (1.0, 0.0, 0.001), 'reward': <class 'src.reward.FangerReward'>, 'reward_kwargs': {'energy_variable': 'Facility Total HVAC Electricity Demand Rate(Whole Building)', 'ppd_variable': 'Zone Thermal Comfort Fanger Model PPD(SPACE1-1 PEOPLE 1)', 'occupancy_variable': 'Zone People Occupant Count(SPACE1-1)'}, 'max_ep_data_store_num': 10, 'env_name': '5zone-hot-continuous-stochastic-v1', 'config_params': {'timesteps_per_hour': 1}})"
     ]
    }
   ],
   "source": [
    "env = gym.make(\n",
    "    id='Eplus-5zone-hot-continuous-stochastic-v1', \n",
    "    weather_files='PRT_Lisboa.085360_INETI.epw',\n",
    "    reward=FangerReward,\n",
    "    reward_kwargs={\n",
    "        'energy_variable': 'Facility Total HVAC Electricity Demand Rate(Whole Building)',\n",
    "        'ppd_variable': 'Zone Thermal Comfort Fanger Model PPD(SPACE1-1 PEOPLE 1)',\n",
    "        'occupancy_variable': 'Zone People Occupant Count(SPACE1-1)'\n",
    "    },\n",
    "    #act_repeat=1,\n",
    "    config_params={\n",
    "        'timesteps_per_hour' : 1,\n",
    "        #'weather_bounds': {name: (epw_data.weather_min[name], epw_data.weather_max[name]) for name in epw_data.weather_min.index},\n",
    "        #\"random_month\": False}\n",
    "    }\n",
    ")"
   ]
  }
 ],
 "metadata": {
  "kernelspec": {
   "display_name": "Python 3",
   "language": "python",
   "name": "python3"
  },
  "language_info": {
   "codemirror_mode": {
    "name": "ipython",
    "version": 3
   },
   "file_extension": ".py",
   "mimetype": "text/x-python",
   "name": "python",
   "nbconvert_exporter": "python",
   "pygments_lexer": "ipython3",
   "version": "3.10.12"
  }
 },
 "nbformat": 4,
 "nbformat_minor": 2
}
